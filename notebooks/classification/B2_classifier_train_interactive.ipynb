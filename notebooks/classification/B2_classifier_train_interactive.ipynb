{
 "cells": [
  {
   "attachments": {},
   "cell_type": "markdown",
   "metadata": {},
   "source": [
    "# Intro"
   ]
  },
  {
   "attachments": {},
   "cell_type": "markdown",
   "metadata": {},
   "source": [
    "Welcome to the classifier training notebook!\n",
    "\n",
    "To run this notebook, you must first have prepared images and labels. This can be done using the `labeling_interactive.ipynb` notebook, or can be provided manually.\n",
    "\n",
    "The notebook proceeds as follows:\n",
    "1. **Import** libraries\n",
    "2. Define **paths** to data\n",
    "3. **Train** a classifier\n",
    "4. **Save** results"
   ]
  },
  {
   "attachments": {},
   "cell_type": "markdown",
   "metadata": {},
   "source": [
    "# Imports"
   ]
  },
  {
   "cell_type": "code",
   "execution_count": null,
   "metadata": {},
   "outputs": [],
   "source": [
    "# widen jupyter notebook window\n",
    "from IPython.display import display, HTML\n",
    "display(HTML(\"<style>.container {width:95% !important; }</style>\"))"
   ]
  },
  {
   "cell_type": "code",
   "execution_count": 16,
   "metadata": {},
   "outputs": [],
   "source": [
    "from pathlib import Path\n",
    "import tempfile\n",
    "import functools\n",
    "\n",
    "import numpy as np\n",
    "import sklearn\n",
    "import pandas as pd"
   ]
  },
  {
   "cell_type": "code",
   "execution_count": 1,
   "metadata": {},
   "outputs": [],
   "source": [
    "import roicat"
   ]
  },
  {
   "attachments": {},
   "cell_type": "markdown",
   "metadata": {},
   "source": [
    "# Data Importing"
   ]
  },
  {
   "attachments": {},
   "cell_type": "markdown",
   "metadata": {},
   "source": [
    "## Option 1: Use Data Results from Labeling Interactive Outputs"
   ]
  },
  {
   "attachments": {},
   "cell_type": "markdown",
   "metadata": {},
   "source": [
    "##### 1. Specify filepath"
   ]
  },
  {
   "cell_type": "code",
   "execution_count": 67,
   "metadata": {},
   "outputs": [],
   "source": [
    "filepath_labeling_results = r'/media/rich/bigSSD/data_tmp/test_data/mouse_1.labeling.results.richfile'"
   ]
  },
  {
   "attachments": {},
   "cell_type": "markdown",
   "metadata": {},
   "source": [
    "##### 2. Import data\n",
    "\n",
    "Be sure to specify a `um_per_pixel`"
   ]
  },
  {
   "cell_type": "code",
   "execution_count": null,
   "metadata": {},
   "outputs": [],
   "source": [
    "labelingInteractive = roicat.util.RichFile_ROICaT(path=filepath_labeling_results).load()\n",
    "\n",
    "data = roicat.data_importing.Data_roicat();\n",
    "data.set_ROI_images(\n",
    "    ROI_images=[labelingInteractive['images'][labelingInteractive['labels']['df'].index.to_numpy()]],\n",
    "    um_per_pixel=1.0,\n",
    ");\n",
    "data.set_class_labels(\n",
    "    [labelingInteractive['labels']['df']['label'].to_numpy()],\n",
    ");\n",
    "\n",
    "print('')\n",
    "data.check_completeness()"
   ]
  },
  {
   "attachments": {},
   "cell_type": "markdown",
   "metadata": {},
   "source": [
    "Notice that `.check_completeness()` shows that `classification_training` is `True`"
   ]
  },
  {
   "attachments": {},
   "cell_type": "markdown",
   "metadata": {},
   "source": [
    "## Option 2: Make a new data object\n",
    "\n",
    "See the [demo_data_importing](https://github.com/RichieHakim/ROICaT/blob/dev/notebooks/jupyter/other/demo_data_importing.ipynb) notebook to build a custom data object using any kind of data (Suite2p, CaImAn, etc.). It's really easy!\n",
    "\n",
    "For example:\n",
    "```\n",
    "data = roicat.data_importing.Data_suite2p(\n",
    "    paths_statFiles=['/path/to/stat.npy'],\n",
    "    paths_opsFiles=['/path/to/ops.npy'],\n",
    "    um_per_pixel=2.5,  \n",
    "    new_or_old_suite2p='new',\n",
    "    type_meanImg='meanImgE',\n",
    "    verbose=True,\n",
    ")\n",
    "data.set_class_labels(path_labels=['/path/to/labels.npy'])\n",
    "assert data.check_completeness(verbose=False)['classification_inference'], f\"Data object is missing attributes necessary for tracking.\"\n",
    "```"
   ]
  },
  {
   "cell_type": "code",
   "execution_count": null,
   "metadata": {},
   "outputs": [],
   "source": [
    "data = roicat.data_importing.Data_suite2p(\n",
    "    paths_statFiles=['/media/rich/bigSSD/for_Josh/SimCLR-Label-Data/mouse2_6__20210409/stat.npy'],\n",
    "    paths_opsFiles=['/media/rich/bigSSD/for_Josh/SimCLR-Label-Data/mouse2_6__20210409/ops.npy'],\n",
    "    um_per_pixel=2.5,  \n",
    "    new_or_old_suite2p='new',\n",
    "    type_meanImg='meanImgE',\n",
    "    verbose=True,\n",
    ")\n",
    "\n",
    "data.set_class_labels(path_labels=['/media/rich/bigSSD/for_Josh/SimCLR-Label-Data/mouse2_6__20210409/labels_round2_sesh1.npy'])\n",
    "\n",
    "assert data.check_completeness(verbose=False)['classification_inference'], f\"Data object is missing attributes necessary for tracking.\""
   ]
  },
  {
   "cell_type": "markdown",
   "metadata": {},
   "source": [
    "## Option 3: Use Data Results from Classify by Drawing Selection output"
   ]
  },
  {
   "cell_type": "markdown",
   "metadata": {},
   "source": [
    "\n",
    "##### 1. Specify filepath"
   ]
  },
  {
   "cell_type": "code",
   "execution_count": 52,
   "metadata": {},
   "outputs": [],
   "source": [
    "filepath_labelingDrawing = r'/media/rich/bigSSD/data_tmp/test_data/mouse_1.classification_drawn.run_data.richfile'"
   ]
  },
  {
   "cell_type": "markdown",
   "metadata": {},
   "source": [
    "##### 2. Import data"
   ]
  },
  {
   "cell_type": "code",
   "execution_count": null,
   "metadata": {},
   "outputs": [],
   "source": [
    "labelingDrawing = roicat.util.RichFile_ROICaT(path=filepath_labelingDrawing).load()\n",
    "\n",
    "data = roicat.data_importing.Data_roicat();\n",
    "\n",
    "data.set_spatialFootprints(\n",
    "    spatialFootprints=labelingDrawing['data']['spatialFootprints'], \n",
    "    um_per_pixel=labelingDrawing['data']['um_per_pixel'],\n",
    ")\n",
    "\n",
    "data.set_FOVHeightWidth(\n",
    "    FOV_height=labelingDrawing['data']['FOV_height'],\n",
    "    FOV_width=labelingDrawing['data']['FOV_width'],\n",
    ")\n",
    "\n",
    "data.transform_spatialFootprints_to_ROIImages(out_height_width=(36, 36));\n",
    "\n",
    "data.set_class_labels(labels=labelingDrawing['preds'])\n",
    "\n",
    "assert data.check_completeness(verbose=False)['classification_inference'], f\"Data object is missing attributes necessary for tracking.\""
   ]
  },
  {
   "attachments": {},
   "cell_type": "markdown",
   "metadata": {},
   "source": [
    "# ROInet embedding\n",
    "\n",
    "This step passes the images of each ROI through the ROInet neural network. The inputs are the images, the output is an array describing the visual properties of each ROI."
   ]
  },
  {
   "attachments": {},
   "cell_type": "markdown",
   "metadata": {},
   "source": [
    "##### 1. Initialize ROInet\n",
    "\n",
    "Initialize the ROInet object. The `ROInet_embedder` class will automatically download and load a pretrained ROInet model. If you have a GPU, this step will be much faster."
   ]
  },
  {
   "cell_type": "code",
   "execution_count": null,
   "metadata": {},
   "outputs": [],
   "source": [
    "DEVICE = roicat.helpers.set_device(use_GPU=True, verbose=True)\n",
    "dir_temp = tempfile.gettempdir()\n",
    "\n",
    "roinet = roicat.ROInet.ROInet_embedder(\n",
    "    device=DEVICE,  ## Which torch device to use ('cpu', 'cuda', etc.)\n",
    "    dir_networkFiles=dir_temp,  ## Directory to download the pretrained network to\n",
    "    download_method='check_local_first',  ## Check to see if a model has already been downloaded to the location (will skip if hash matches)\n",
    "    download_url='https://osf.io/c8m3b/download',  ## URL of the model\n",
    "    download_hash='357a8d9b630ec79f3e015d0056a4c2d5',  ## Hash of the model file\n",
    "    forward_pass_version='head',  ## How the data is passed through the network\n",
    "    verbose=True,  ## Whether to print updates\n",
    ")\n",
    "\n",
    "roinet.generate_dataloader(\n",
    "    ROI_images=data.ROI_images,  ## Input images of ROIs\n",
    "    um_per_pixel=data.um_per_pixel,  ## Resolution of FOV\n",
    "    pref_plot=False,  ## Whether or not to plot the ROI sizes\n",
    ");"
   ]
  },
  {
   "attachments": {},
   "cell_type": "markdown",
   "metadata": {},
   "source": [
    "##### 2. Check ROI_images sizes\n",
    "In general, you want to see that a neuron fills roughly 25-50% of the area of the image. \\\n",
    "**Adjust `um_per_pixel` above to rescale image size**"
   ]
  },
  {
   "cell_type": "code",
   "execution_count": null,
   "metadata": {},
   "outputs": [],
   "source": [
    "roicat.visualization.display_toggle_image_stack(roinet.ROI_images_rs[:1000], image_size=(200,200))"
   ]
  },
  {
   "attachments": {},
   "cell_type": "markdown",
   "metadata": {},
   "source": [
    "##### 3. Pass data through network\n",
    "\n",
    "Pass the data through the network. Expect for large datasets (~40,000 ROIs) that this takes around 15 minutes on CPU or 1 minute on GPU."
   ]
  },
  {
   "cell_type": "code",
   "execution_count": null,
   "metadata": {},
   "outputs": [],
   "source": [
    "roinet.generate_latents();"
   ]
  },
  {
   "attachments": {},
   "cell_type": "markdown",
   "metadata": {},
   "source": [
    "# Train / Validation / Test Split Data, Hyperparameter Tune on Validation Set, and Fit Model"
   ]
  },
  {
   "attachments": {},
   "cell_type": "markdown",
   "metadata": {},
   "source": [
    "Prepare input data"
   ]
  },
  {
   "cell_type": "code",
   "execution_count": 75,
   "metadata": {},
   "outputs": [],
   "source": [
    "X = np.array(roinet.latents).astype(np.float32)\n",
    "y = np.concatenate(data.class_labels_index).astype(np.int64)"
   ]
  },
  {
   "attachments": {},
   "cell_type": "markdown",
   "metadata": {},
   "source": [
    "##### Initialize the **AutoClassifier**. \n",
    "\n",
    "This class is meant to be easy to use, but advanced users will find all the parameters they might want to play with available as arguments. Feel free to play with some of them by looking through the detailed [**DOCUMENTATION**](https://roicat.readthedocs.io/en/latest/roicat.html#roicat.classification.classifier.Auto_LogisticRegression) on this class. Here's a brief tutorial:\n",
    "- This class performs classification by fitting a Logistic Regression model\n",
    "- There is one critical parameter in this model: ``'C'``. Lowering 'C' means more regularization.\n",
    "- This class will **automatically tune** any parameter that is specified in the `params_LogisticRegression` argument as a list of values. See the sklearn documentation on [LogisticRegression](https://scikit-learn.org/stable/modules/generated/sklearn.linear_model.LogisticRegression.html) for the full list of arguments that can be specified in ``params_LogisticRegression``.\n",
    "    - Examples: \n",
    "    ```\n",
    "    ## Initialize with NO TUNING. All parameters are fixed.\n",
    "    autoclassifier = Auto_LogisticRegression(\n",
    "        X,\n",
    "        y,\n",
    "        params_LogisticRegression={\n",
    "            'C': 1e-14,\n",
    "            'penalty': 'l2',\n",
    "            'solver': 'lbfgs',\n",
    "        },\n",
    "    )\n",
    "\n",
    "    ## Initialize with TUNING 'C', 'penalty', and 'l1_ratio'. 'solver' is fixed.\n",
    "    autoclassifier = Auto_LogisticRegression(\n",
    "        X,\n",
    "        y,\n",
    "        params_LogisticRegression={\n",
    "            'C': [1e-14, 1e3],\n",
    "            'penalty': ['l1', 'l2', 'elasticnet'],\n",
    "            'l1_ratio': [0.0, 1.0],\n",
    "            'solver': 'lbfgs',\n",
    "        },\n",
    "    )\n",
    "    ```"
   ]
  },
  {
   "cell_type": "code",
   "execution_count": 82,
   "metadata": {},
   "outputs": [],
   "source": [
    "autoclassifier = roicat.classification.classifier.Auto_LogisticRegression(\n",
    "    X=X,\n",
    "    y=y,\n",
    "    params_LogisticRegression={\n",
    "        'C': [1e-13, 1e3],\n",
    "    },\n",
    "    verbose=True,\n",
    ")"
   ]
  },
  {
   "attachments": {},
   "cell_type": "markdown",
   "metadata": {},
   "source": [
    "##### Run the AutoClassifier"
   ]
  },
  {
   "cell_type": "code",
   "execution_count": null,
   "metadata": {},
   "outputs": [],
   "source": [
    "autoclassifier.fit()"
   ]
  },
  {
   "attachments": {},
   "cell_type": "markdown",
   "metadata": {},
   "source": [
    "# Visualize results"
   ]
  },
  {
   "cell_type": "code",
   "execution_count": null,
   "metadata": {},
   "outputs": [],
   "source": [
    "autoclassifier.plot_C_curve()"
   ]
  },
  {
   "cell_type": "code",
   "execution_count": null,
   "metadata": {},
   "outputs": [],
   "source": [
    "accuracy, confusion_matrix = autoclassifier.evaluate_model()\n",
    "\n",
    "print(f\"Accuracy: {accuracy}\")\n",
    "\n",
    "roicat.visualization.plot_confusion_matrix(\n",
    "    confusion_matrix=confusion_matrix,\n",
    "    class_names=None,\n",
    ")"
   ]
  },
  {
   "attachments": {},
   "cell_type": "markdown",
   "metadata": {},
   "source": [
    "# Save Outputs"
   ]
  },
  {
   "cell_type": "code",
   "execution_count": 88,
   "metadata": {},
   "outputs": [],
   "source": [
    "directory_save = '/media/rich/bigSSD/data_tmp/test_data/'\n",
    "filename_prefix_model = 'mouse_1'\n",
    "\n",
    "paths_save = {\n",
    "    'model':    str(Path(directory_save) / (filename_prefix_model + '.classification_training.autoclassifier' + '.onnx')),\n",
    "    'run_data': str(Path(directory_save) / (filename_prefix_model + '.classification_training.run_data.richfile')),\n",
    "}"
   ]
  },
  {
   "cell_type": "code",
   "execution_count": null,
   "metadata": {},
   "outputs": [],
   "source": [
    "autoclassifier.save_model(\n",
    "    filepath=paths_save['model'],\n",
    "    allow_overwrite=True,\n",
    ")\n",
    "\n",
    "roicat.util.RichFile_ROICaT(path=paths_save['run_data']).save({\n",
    "    'data': data.__dict__,\n",
    "    'roinet': roinet.__dict__,\n",
    "    'accuracy': accuracy,\n",
    "    'confusion_matrix': confusion_matrix,\n",
    "}, overwrite=True)"
   ]
  },
  {
   "cell_type": "code",
   "execution_count": null,
   "metadata": {},
   "outputs": [],
   "source": []
  }
 ],
 "metadata": {
  "kernelspec": {
   "display_name": "Python 3 (ipykernel)",
   "language": "python",
   "name": "python3"
  },
  "language_info": {
   "codemirror_mode": {
    "name": "ipython",
    "version": 3
   },
   "file_extension": ".py",
   "mimetype": "text/x-python",
   "name": "python",
   "nbconvert_exporter": "python",
   "pygments_lexer": "ipython3",
   "version": "3.11.9"
  }
 },
 "nbformat": 4,
 "nbformat_minor": 2
}
